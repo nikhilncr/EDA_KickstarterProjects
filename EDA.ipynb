{
  "cells": [
    {
      "cell_type": "markdown",
      "metadata": {
        "_cell_guid": "b1076dfc-b9ad-4769-8c92-a6c4dae69d19",
        "_uuid": "8f2839f25d086af736a60e9eeb907d3b93b6e0e5"
      },
      "source": [
        "<h1>  Exploratory Data Analyses of Kickstarter dataset using Tableau visualizations</h1> <br>"
      ]
    },
    {
      "cell_type": "markdown",
      "metadata": {
        "_cell_guid": "84b231ec-a199-4b66-b105-bcbd223e5056",
        "_uuid": "a01c9b31763644abf0e944ee1d7e44f25bfce8c8"
      },
      "source": [
        "<h1>Fund raisers for start ups from across the globe </h1>\n",
        "\n",
        "\n",
        "![](https://s3.us-east-2.amazonaws.com/kaggleimages/Kickstarter/World.png)\n",
        "<br>\n",
        "It can be seen that a majority of the projects seeking funds in Kickstarter are from the United states with highest success rate in successfully raising funds.\n",
        "\n",
        "Map credits : OpenStreetMap Contributors (Tableau)"
      ]
    },
    {
      "cell_type": "markdown",
      "metadata": {
        "_cell_guid": "825953f1-e7d0-41e1-941d-f3580171df71",
        "_uuid": "703dbeafbb57ea143cc49070d91853b6fa180df3"
      },
      "source": [
        "<h1>Category-wise distribution</h1>\n",
        "![Category-wise distribution](https://s3.us-east-2.amazonaws.com/kaggleimages/Kickstarter/CategoryWiseCampaigns.png) <br>\n",
        "\n",
        "Looks like a vast majority of the fund seekers want to make ***Film and Videos***\n",
        " \n",
        "Lets look at the top 50 sub categories \n",
        " \n",
        "![](https://s3.us-east-2.amazonaws.com/kaggleimages/Kickstarter/Top50SubCategories.png) \n",
        "\n",
        "Product design tops the list, followed by Documentary, Music, Tabletop Games etc.,"
      ]
    },
    {
      "cell_type": "markdown",
      "metadata": {
        "_cell_guid": "01c6426c-f45a-4f8d-95d4-268239ab3734",
        "_uuid": "3b65eb120bf0c697e62b3c57f37b53180aef067d"
      },
      "source": [
        "<h1>Funds raised (Sum) by category and sub category</h1>\n",
        "\n",
        "![](https://s3.us-east-2.amazonaws.com/kaggleimages/Kickstarter/SumCategoryAndSubCategorywise.png)\n",
        "\n",
        "It's a beautiful pattern in which Product design appears to stand out followed by Tabletop Games, Video games, Documentary etc., Technology comes after all this.\n",
        "<br>This image might be a little too biased towards Product Design and games where one or two companies could get a larger portion of the funds while rest get lesser support.\n",
        "<br>That is because we are looking at the ***SUM***. Now lets look at the ***Average***\n",
        "\n",
        "<h1>Funds raised (Average) by category and sub category</h1>\n",
        "![](https://s3.us-east-2.amazonaws.com/kaggleimages/Kickstarter/AvgCatSubCat.png)\n",
        "<br>\n",
        "This appears to be a better picture. Now, the average funds received by each technology startup seems to be consistent across various sub categies. <br>\n",
        "Please note that the Product design comes far later when the average funds are considered. \n",
        "<br>\n",
        "<br>\n",
        "Now, lets look at the average funds by main category.\n"
      ]
    },
    {
      "cell_type": "markdown",
      "metadata": {
        "_cell_guid": "a3287a7c-8bd0-4242-a9bb-bd1fa2fd11f6",
        "_uuid": "18f271b3b7bc6c82644370f98eafdea9aa9ccb0d"
      },
      "source": [
        "<h1> Average Funds raised by Main-category </h1>\n",
        "\n",
        "![](https://s3.us-east-2.amazonaws.com/kaggleimages/Kickstarter/AvgFundsByCategory.png)\n",
        "\n",
        "Although the number of Technology based start ups are about half the number of Film & Videos category , the average pledged USD seems to be highest for the Technology Kickstarters.\n",
        "<br>\n",
        "Technology, Design and Games appear to be the top trending main categories that are raising good funds.\n",
        "<br>\n",
        "Now lets take a closer look at each of these main categories.\n",
        "\n",
        "<br>\n",
        "<h1> Top 5 sub categories in Technology, Design and Gaming startups</h1>\n",
        "![](https://s3.us-east-2.amazonaws.com/kaggleimages/Kickstarter/Top5inTDG.png)\n",
        "<br>\n",
        "Fund seekers from technology are fairly distributed in the sub categories while Design and Games have a large number of fund seekers from said few categories."
      ]
    },
    {
      "cell_type": "markdown",
      "metadata": {
        "_cell_guid": "77db4c2c-9c4d-42d1-ac42-a19b6fd13f03",
        "_uuid": "e8709f122ec7555c67576b63d13f7452dbd4bb53"
      },
      "source": [
        "<h1> Fund Raising status in Percentage of total Fund seekers </h1>\n",
        "<img src=\"https://s3.us-east-2.amazonaws.com/kaggleimages/Kickstarter/TotalShare.png\" alt=\"Total share of the campaign statuses\" width=\"800\" height=\"800\"> \n",
        "\n",
        "It seems that* **a little more than a third*** of the Kickstarter Projects are successful in the campaign "
      ]
    },
    {
      "cell_type": "markdown",
      "metadata": {
        "_cell_guid": "8ed6666a-22a5-4a66-b1cd-3b40a94c0358",
        "_uuid": "0f1b58a81d0f8387da33ad26b41219e63477fd75"
      },
      "source": [
        "<h1> Average length of campaigns that have seen different fates </h1>\n",
        "\n",
        "![](https://s3.us-east-2.amazonaws.com/kaggleimages/Kickstarter/Average+days+bn.png)\n",
        "\n",
        "It apprears that, on an average a campaign that has been successful has about ***32.16 days*** to achieve the feat"
      ]
    },
    {
      "cell_type": "markdown",
      "metadata": {
        "_cell_guid": "b161f14f-c39b-4b3a-98bd-b990282aad62",
        "_uuid": "5108f3d1b9ac11f2e339f8433500a1708d578f26"
      },
      "source": []
    },
    {
      "cell_type": "markdown",
      "metadata": {
        "_cell_guid": "24a2a042-5674-4312-af99-6f9d79a6c119",
        "_uuid": "8f2c46ef84067f96c767f5eeaef553e8f9248e14"
      },
      "source": [
        "<h1> Top 15 Fund raisers in the campaign</h1>\n",
        "\n",
        "![](https://s3.us-east-2.amazonaws.com/kaggleimages/Kickstarter/Top15.png)\n",
        "\n",
        "<br>\n",
        "It can be seen that the Product design category is attracting most funds with 7 companies in the top 15 and 4 in top 5 belonging to Product Design space."
      ]
    },
    {
      "cell_type": "markdown",
      "metadata": {
        "_cell_guid": "8b90063c-0a6a-49af-a2e9-26cbd9529f1a",
        "_uuid": "e76c01fcaf9a37e936ceb6a564321793a794989a"
      },
      "source": [
        "<h1>Top 50 projects by highest backers</h1>\n",
        "\n",
        "![](https://s3.us-east-2.amazonaws.com/kaggleimages/Kickstarter/ProjectsBySumBackers.png)\n",
        "\n",
        "<br>\n",
        "It can be observed that the Games category domnates here followed by Design, Tech and only a few Film & Video entries."
      ]
    },
    {
      "cell_type": "markdown",
      "metadata": {
        "_cell_guid": "24de3084-5329-416f-9a6c-9f1b337bdcca",
        "_uuid": "be2d00ad0b2de333fd86c8743941b6d015ba77e2"
      },
      "source": [
        "<h1>Average days to reach Average goal funding - Category-wise</h1>\n",
        "![](https://s3.us-east-2.amazonaws.com/kaggleimages/Kickstarter/DaysBnVsAvgGoal.png)\n",
        "\n",
        "On an average crafts related start ups seems to reach the average Goal faster than any other category. <br>\n",
        "However, the average USD required by this community is also less than all other categories.<br>\n",
        "Start ups in Gaming space seem to be reaching the average goal faster than most other categories."
      ]
    },
    {
      "cell_type": "markdown",
      "metadata": {
        "_cell_guid": "5d231258-9beb-49dd-a5bb-02e0b83b48f9",
        "_uuid": "2e05ec407e64e3cb6bf6f67dd1bd3b2612afce50"
      },
      "source": [
        "\n",
        "<h1>Category-wise Success/Failure</h1>\n",
        "![](https://s3.us-east-2.amazonaws.com/kaggleimages/Kickstarter/CategorywiseSuccessFailurePercentage.png)\n",
        "\n",
        "<br>\n",
        "\n",
        "It can be seen that a major portion of Kick starters seeking funding from ***Music, Theater, Comics and Dance*** categories are successful in the campaign. <br> <br>\n",
        "In the next picture it looks like the fund seekers from Theater, Comics and Dance have surpassed goal funding. <br><br>\n",
        "\n",
        "![](https://s3.us-east-2.amazonaws.com/kaggleimages/Kickstarter/PledgedMorethanGoal.png)"
      ]
    },
    {
      "cell_type": "markdown",
      "metadata": {
        "_cell_guid": "ee6ba6d7-7b29-427b-913b-be5e34c768f8",
        "_uuid": "d35bfda85e0ec830fbfc71da05bd2af64c21476d"
      },
      "source": [
        "![](https://s3.us-east-2.amazonaws.com/kaggleimages/Kickstarter/CurrencyVSAvgPledged.png)\n",
        "\n",
        "<br>\n",
        "Swiss Franc (CHF) seems to be leading the investment in Kickstarter Projects. (Please note all the currencies are USD equivalents)"
      ]
    },
    {
      "cell_type": "markdown",
      "metadata": {
        "_cell_guid": "d91d1133-e8da-46c2-afe8-9e74bb97de50",
        "_uuid": "890561d58e922bfe2017fb892eae9ee239246330"
      },
      "source": [
        "![](https://s3.us-east-2.amazonaws.com/kaggleimages/Kickstarter/daysDiffDist.png)\n",
        "\n",
        "This looks like a clear sky. Isn't it ? <br>\n",
        "This plot hardly says anyhting. <br>\n",
        "Well, wrong. This graph captures the most critical information in data. ***OUTLIERS*** <br>\n",
        "\n",
        "It looks like there is at least one Kickstarter Project who's campaign has extended over 16,000 days.  <br>\n",
        "Let's exclude the outliers and look at the distribution.\n",
        "![](https://s3.us-east-2.amazonaws.com/kaggleimages/Kickstarter/DaysDiffDistribution.png)\n",
        "\n",
        "\n",
        "<br>\n",
        "<br>\n",
        "There are spikes in the histogram at the multiples of weeks (7 days, 14 days, 21 days 28 days ) at multiples of 5 days (5 days, 10 days, 15 days etc.,) and at multiples of months (30 days, 31 days, 60 days, 90 days).<br>\n",
        "This suggests that a large portion of campaigns have run in terms of weeks and months and multilples of 5 days.\n",
        "<br>"
      ]
    },
    {
      "cell_type": "markdown",
      "metadata": {
        "_cell_guid": "28c7f2a1-ab20-472c-bf53-a51f33f46111",
        "collapsed": true,
        "_uuid": "b4db87f0954c238d7c040ae5a50932a4612dd7ce"
      },
      "source": [
        "<h1> Average funds raised per backer in different categories </h1>\n",
        "\n",
        "![](https://s3.us-east-2.amazonaws.com/kaggleimages/Kickstarter/AvgUSDperBacker.png)\n",
        "\n",
        "Technology seems to lead again."
      ]
    },
    {
      "cell_type": "markdown",
      "metadata": {
        "_cell_guid": "f0a466ec-900e-4c0e-9194-25bf0a4da4e2",
        "collapsed": true,
        "_uuid": "bacb1e632732b3ea8c10c98df79665408f3222c3"
      },
      "source": [
        "<h1>Average Backers v Average Goal for Successful/failed/cancelled campaigns</h1>\n",
        "![](https://s3.us-east-2.amazonaws.com/kaggleimages/Kickstarter/BackerAndAvg+Goal.png)\n",
        "\n",
        "<br>\n",
        "This suggests tha, on an average, majority of the backers look for investing in projects that have smaller average USD as a goal.<br> \n",
        "May be backers think Projects with lower goal are less riskier. <br>\n",
        "On an average these projects also tend to be successful in campaigns."
      ]
    },
    {
      "cell_type": "markdown",
      "metadata": {
        "_cell_guid": "23c1c0fa-d1d9-4d70-b6f8-ef24247c204d",
        "collapsed": true,
        "_uuid": "dac6cdd49918c4c6c72e82c1f230b6be31a1a2b7"
      },
      "source": [
        "<h3> Lets have a look at the Box plots for categories to get better idea of the funds raised by each category.</h3>\n",
        "\n",
        "<h1> Box plots for funds raised - category-wise </h1>\n",
        "\n",
        "![](https://s3.us-east-2.amazonaws.com/kaggleimages/Kickstarter/BoxSmall.png)\n",
        "\n",
        "<br>\n",
        "Well, the plot is supposed to be a box plot. But there is a large number of outliers making the box look like a tiny line. <br>\n",
        "So, box plot is probably not a good idea when the data is huge and when there are way too many outliers. <br>\n",
        "Let's look closer by magnifying  the y axis (funds raised)\n",
        "\n",
        "<h1>  Box plots for funds raised - category-wise (magnified) </h1>\n",
        "\n",
        "![](https://s3.us-east-2.amazonaws.com/kaggleimages/Kickstarter/BoxBig.png)\n",
        "\n",
        "Design, Games and Technology have relatively larger IQRs while Crafts, Journalism, Art and Photography have relatively smaller IQRs. <br>\n",
        "This is not much helpful to get any specific information. However, a general idea about the distribution can be inferred."
      ]
    },
    {
      "cell_type": "markdown",
      "metadata": {
        "_cell_guid": "84febad8-90a7-45b9-aa9e-8121d27eb82e",
        "collapsed": true,
        "_uuid": "d9b5c29dbaa7701f3e3fc3d2101176910c6159d3"
      },
      "source": [
        "Let's look at the Success and failure rates category-wise\n",
        "\n",
        "<h1> Success rate of projects in different category-wise </h1>\n",
        "\n",
        "![](https://s3.us-east-2.amazonaws.com/kaggleimages/Kickstarter/percSuccessCat.png)\n",
        "\n",
        "About Two thirds (65.44%) of the Dance projects seeking funds  are succeessful in raising funds while only about a quarter (23.79%) of technology are successful in raising funds."
      ]
    },
    {
      "cell_type": "markdown",
      "metadata": {
        "_cell_guid": "9f8fcb44-2309-486b-8a98-7b21a31c481a",
        "collapsed": true,
        "_uuid": "8734eedbe769c47f5108f26cd6fef885bf8e35c2"
      },
      "source": [
        "<h2> Now let's see the trend of Fund seekers </h2>"
      ]
    },
    {
      "cell_type": "markdown",
      "metadata": {
        "_cell_guid": "9f406f81-2736-418f-a646-6ac867e63c0a",
        "collapsed": true,
        "_uuid": "6cf7b652c8dd057e571467b58d63736e598a43ff"
      },
      "source": [
        "<h1> Distribution of kickstarter fund seekers year-wise  </h1>\n",
        "![](https://s3.us-east-2.amazonaws.com/kaggleimages/Kickstarter/Year_DistPerc.png)\n",
        "\n",
        "<br>\n",
        "Well, this uncovers a lot of trends. Some of the prominent observations are as below. <br>\n",
        "1. Years 2014 and 2015 have seen a good surge in the number of Startups that seek funding from Kickstarter. \n",
        "2. For some reason there has been a steep decline in 2016 from 2015.\n",
        "3. The number of startups as a percent of the number seeking funds is steadily increasing over years for design and fashion categories while increasing at a much higher rate for Technology and gaming spaces. However, tech has seen a small dip in the last couple of years.\n",
        "4. A similar but declining trend is observed for Film & Videos and Music categories.\n",
        "\n",
        "<h3> Let's see the funding success rate of these categories </h3>"
      ]
    },
    {
      "cell_type": "markdown",
      "metadata": {
        "_cell_guid": "a647f602-cc0e-4256-8b93-d7df08b2c840",
        "collapsed": true,
        "_uuid": "f4730ad20dc0e2a321ac436d63966fa848bbcce2"
      },
      "source": [
        "<h1> Success rate of the Project categories, Year-wise </h1>\n",
        "\n",
        "![](https://s3.us-east-2.amazonaws.com/kaggleimages/Kickstarter/yearSuccessPercentage.png)\n",
        "<br>\n",
        "Again, Music and Film & videos are seeing a decline in being successful in campaign, while technology, Games and Design are increasingly successful in raising funds over years.\n",
        "\n",
        "This could possibly explain the increased interest in the backers for Games, Technology and Design based startups"
      ]
    },
    {
      "cell_type": "markdown",
      "metadata": {
        "_cell_guid": "9c0cd98b-683b-486d-9b46-e8da5ae727de",
        "collapsed": true,
        "_uuid": "e55833cdc41b2e07f83fb4dece9593eaf286e1ea"
      },
      "source": [
        "<h3> Thank you for reading. I hope it did not get boring at any point. \n",
        "<br> It was indeed a nice experience exploring the Kickstarter dataset using Tableau. \n",
        "<br>  Feedback and comments are always welcome.\n",
        "</h3>\n"
      ]
    },
    {
      "execution_count": null,
      "outputs": [],
      "cell_type": "code",
      "metadata": {
        "_uuid": "7809cb556d6c3ac25880d69193518bce8478084f",
        "collapsed": true,
        "_cell_guid": "f272b1da-9505-4385-a058-a4c8539b1238"
      },
      "source": []
    }
  ],
  "nbformat": 4,
  "nbformat_minor": 1,
  "metadata": {
    "language_info": {
      "pygments_lexer": "ipython3",
      "mimetype": "text/x-python",
      "nbconvert_exporter": "python",
      "file_extension": ".py",
      "version": "3.6.4",
      "name": "python",
      "codemirror_mode": {
        "version": 3,
        "name": "ipython"
      }
    },
    "kernelspec": {
      "display_name": "Python 3",
      "language": "python",
      "name": "python3"
    }
  }
}